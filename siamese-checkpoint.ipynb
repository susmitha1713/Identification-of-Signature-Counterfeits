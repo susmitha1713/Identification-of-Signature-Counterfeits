{
 "cells": [
  {
   "cell_type": "code",
   "execution_count": 1,
   "id": "5e3d526b-7f55-4248-a6a5-3ea89f0fa0cb",
   "metadata": {},
   "outputs": [
    {
     "name": "stdout",
     "output_type": "stream",
     "text": [
      "Epoch 1/10\n",
      "1/1 [==============================] - 1s 824ms/step - loss: 0.8756 - accuracy: 0.5000 - val_loss: 7.7125 - val_accuracy: 0.5000\n",
      "Epoch 2/10\n",
      "1/1 [==============================] - 0s 145ms/step - loss: 7.6246 - accuracy: 0.5000 - val_loss: 7.7125 - val_accuracy: 0.5000\n",
      "Epoch 3/10\n",
      "1/1 [==============================] - 0s 134ms/step - loss: 7.6246 - accuracy: 0.5000 - val_loss: 7.7125 - val_accuracy: 0.5000\n",
      "Epoch 4/10\n",
      "1/1 [==============================] - 0s 135ms/step - loss: 7.6246 - accuracy: 0.5000 - val_loss: 7.7125 - val_accuracy: 0.5000\n",
      "Epoch 5/10\n",
      "1/1 [==============================] - 0s 139ms/step - loss: 7.6246 - accuracy: 0.5000 - val_loss: 7.7125 - val_accuracy: 0.5000\n",
      "Epoch 6/10\n",
      "1/1 [==============================] - 0s 138ms/step - loss: 7.6246 - accuracy: 0.5000 - val_loss: 7.7125 - val_accuracy: 0.5000\n",
      "Epoch 7/10\n",
      "1/1 [==============================] - 0s 138ms/step - loss: 7.6246 - accuracy: 0.5000 - val_loss: 7.7125 - val_accuracy: 0.5000\n",
      "Epoch 8/10\n",
      "1/1 [==============================] - 0s 139ms/step - loss: 7.6246 - accuracy: 0.5000 - val_loss: 7.7125 - val_accuracy: 0.5000\n",
      "Epoch 9/10\n",
      "1/1 [==============================] - 0s 141ms/step - loss: 7.6246 - accuracy: 0.5000 - val_loss: 7.7125 - val_accuracy: 0.5000\n",
      "Epoch 10/10\n",
      "1/1 [==============================] - 0s 144ms/step - loss: 7.6246 - accuracy: 0.5000 - val_loss: 7.7125 - val_accuracy: 0.5000\n"
     ]
    },
    {
     "data": {
      "text/plain": [
       "<keras.src.callbacks.History at 0x1dc238b10f0>"
      ]
     },
     "execution_count": 1,
     "metadata": {},
     "output_type": "execute_result"
    }
   ],
   "source": [
    "import os\n",
    "import cv2\n",
    "import numpy as np\n",
    "from tensorflow.keras.models import Model\n",
    "from tensorflow.keras.layers import Input, Conv2D, Flatten, Dense, Lambda\n",
    "from tensorflow.keras.optimizers import Adam\n",
    "from tensorflow.keras import backend as K\n",
    "from sklearn.model_selection import train_test_split\n",
    "from tensorflow.keras.models import Sequential\n",
    "from tensorflow.keras.layers import Layer\n",
    "\n",
    "\n",
    "\n",
    "# Function to load and preprocess the signature images\n",
    "def load_and_preprocess_data(data_dir, img_size):\n",
    "    genuine_images = []\n",
    "    fraudulent_images = []\n",
    "\n",
    "    for label, folder in enumerate(os.listdir(data_dir)):\n",
    "        folder_path = os.path.join(data_dir, folder)\n",
    "        \n",
    "        images = []\n",
    "        for filename in os.listdir(folder_path):\n",
    "            img_path = os.path.join(folder_path, filename)\n",
    "            img = cv2.imread(img_path, cv2.IMREAD_GRAYSCALE)\n",
    "            img = cv2.resize(img, (img_size, img_size))\n",
    "            img = img / 255.0\n",
    "            images.append(img)\n",
    "\n",
    "        if len(images) >= 2:\n",
    "            genuine_images.append(images[0])\n",
    "            fraudulent_images.append(images[1])\n",
    "\n",
    "    return np.array(genuine_images), np.array(fraudulent_images)\n",
    "\n",
    "# Load and preprocess data\n",
    "data_directory = r\"D:\\major\\Signature-Forgery-Detection-main\\Signature-Forgery-Detection-main\\Image\"\n",
    "image_size = 64  # You can adjust this based on your dataset\n",
    "\n",
    "genuine_images, fraudulent_images = load_and_preprocess_data(data_directory, image_size)\n",
    "\n",
    "# Split the data into training and testing sets\n",
    "X_genuine_train, X_genuine_test = train_test_split(genuine_images, test_size=0.2, random_state=42)\n",
    "X_fraudulent_train, X_fraudulent_test = train_test_split(fraudulent_images, test_size=0.2, random_state=42)\n",
    "\n",
    "# Create pairs for training and testing\n",
    "# Create pairs for training and testing\n",
    "# Create pairs for training and testing\n",
    "# Create pairs for training and testing\n",
    "# Create pairs for training and testing\n",
    "def create_pairs(genuine_images, fraudulent_images):\n",
    "    pairs = []\n",
    "    labels = []\n",
    "    \n",
    "    for genuine, fraudulent in zip(genuine_images, fraudulent_images):\n",
    "        pairs.append([genuine, fraudulent])\n",
    "        labels.append(1)  # Genuine pairs\n",
    "        \n",
    "        # Creating a mismatched pair\n",
    "        random_index = np.random.choice(len(fraudulent_images))\n",
    "        mismatched_fraudulent = fraudulent_images[random_index]\n",
    "        \n",
    "        pairs.append([genuine, mismatched_fraudulent])\n",
    "        labels.append(0)  # Fraudulent pairs\n",
    "    \n",
    "    return np.array(pairs), np.array(labels)\n",
    "\n",
    "# Rest of the code remains the same\n",
    "train_pairs, train_labels = create_pairs(X_genuine_train, X_fraudulent_train)\n",
    "test_pairs, test_labels = create_pairs(X_genuine_test, X_fraudulent_test)\n",
    "\n",
    "\n",
    "\n",
    "# Siamese network architecture\n",
    "def create_siamese_network(input_shape):\n",
    "    input_img = Input(shape=input_shape)\n",
    "    \n",
    "    model = Sequential([\n",
    "        Conv2D(32, (3,3), activation='relu', input_shape=input_shape),\n",
    "        Flatten(),\n",
    "        Dense(128, activation='relu'),\n",
    "    ])\n",
    "    \n",
    "    encoded_img = model(input_img)\n",
    "    \n",
    "    return Model(input_img, encoded_img)\n",
    "\n",
    "# Siamese network model\n",
    "input_shape = (image_size, image_size, 1)\n",
    "siamese_network = create_siamese_network(input_shape)\n",
    "\n",
    "input_genuine = Input(shape=input_shape)\n",
    "input_fraudulent = Input(shape=input_shape)\n",
    "\n",
    "output_genuine = siamese_network(input_genuine)\n",
    "output_fraudulent = siamese_network(input_fraudulent)\n",
    "\n",
    "# Custom layer to compute the absolute difference between the two encoded vectors\n",
    "class EuclideanDistanceLayer(Layer):\n",
    "    def __init__(self, **kwargs):\n",
    "        super(EuclideanDistanceLayer, self).__init__(**kwargs)\n",
    "\n",
    "    def call(self, inputs, **kwargs):\n",
    "        x, y = inputs\n",
    "        return K.sqrt(K.sum(K.square(x - y), axis=1, keepdims=True))\n",
    "\n",
    "    def compute_output_shape(self, input_shape):\n",
    "        return input_shape[0]\n",
    "\n",
    "distance_layer = EuclideanDistanceLayer()([output_genuine, output_fraudulent])\n",
    "\n",
    "# Final model with distance layer\n",
    "siamese_model = Model(inputs=[input_genuine, input_fraudulent], outputs=distance_layer)\n",
    "\n",
    "# Compile the model\n",
    "siamese_model.compile(optimizer=Adam(), loss='binary_crossentropy', metrics=['accuracy'])\n",
    "\n",
    "# Train the Siamese network\n",
    "siamese_model.fit([train_pairs[:, 0], train_pairs[:, 1]], train_labels, epochs=10, validation_data=([test_pairs[:, 0], test_pairs[:, 1]], test_labels))\n"
   ]
  },
  {
   "cell_type": "code",
   "execution_count": 2,
   "id": "3eea5e5f-2149-4e54-8c8b-390c454c1a4a",
   "metadata": {},
   "outputs": [
    {
     "name": "stdout",
     "output_type": "stream",
     "text": [
      "1/1 [==============================] - 0s 79ms/step\n"
     ]
    },
    {
     "data": {
      "image/png": "[encoded data removed]",
      "text/plain": [
       "<Figure size 640x480 with 1 Axes>"
      ]
     },
     "metadata": {},
     "output_type": "display_data"
    }
   ],
   "source": [
    "import matplotlib.pyplot as plt\n",
    "\n",
    "def plot_distance_histogram(distances, labels):\n",
    "    genuine_distances = distances[labels == 1]\n",
    "    fraudulent_distances = distances[labels == 0]\n",
    "\n",
    "    plt.hist(genuine_distances, bins=20, alpha=0.5, label='Genuine')\n",
    "    plt.hist(fraudulent_distances, bins=20, alpha=0.5, label='Fraudulent')\n",
    "    plt.xlabel('Euclidean Distance')\n",
    "    plt.ylabel('Frequency')\n",
    "    plt.title('Distribution of Euclidean Distances')\n",
    "    plt.legend()\n",
    "    plt.show()\n",
    "\n",
    "# Assuming you have already trained and tested the model\n",
    "test_distances = siamese_model.predict([test_pairs[:, 0], test_pairs[:, 1]])\n",
    "\n",
    "plot_distance_histogram(test_distances, test_labels)\n"
   ]
  },
  {
   "cell_type": "code",
   "execution_count": 94,
   "id": "29f18f22-4a18-48e2-84a9-17425cbda7ea",
   "metadata": {},
   "outputs": [
    {
     "name": "stdout",
     "output_type": "stream",
     "text": [
      "1/1 [==============================] - 0s 31ms/step\n",
      "The signatures are classified as: Forged\n"
     ]
    },
    {
     "data": {
      "image/png": "[encoded data removed]",
      "text/plain": [
       "<Figure size 640x480 with 1 Axes>"
      ]
     },
     "metadata": {},
     "output_type": "display_data"
    },
    {
     "data": {
      "image/png": "[encoded data removed]",
      "text/plain": [
       "<Figure size 640x480 with 1 Axes>"
      ]
     },
     "metadata": {},
     "output_type": "display_data"
    },
    {
     "name": "stdout",
     "output_type": "stream",
     "text": [
      "The signatures are classified as: Forged\n",
      "The Euclidean distance between the signatures is: 1.5303981304168701\n"
     ]
    }
   ],
   "source": [
    "def classify_signature_pair(model, signature1, signature2, threshold=0.5):\n",
    "    # Preprocess the input signatures if needed (resize, normalize, etc.)\n",
    "    signature1 = preprocess_signature(signature1)\n",
    "    signature2 = preprocess_signature(signature2)\n",
    "\n",
    "    # Expand dimensions to match the model's input shape\n",
    "    signature1 = np.expand_dims(signature1, axis=0)\n",
    "    signature2 = np.expand_dims(signature2, axis=0)\n",
    "\n",
    "    # Predict the distance using the trained Siamese model\n",
    "    distance = model.predict([signature1, signature2])[0][0]\n",
    "\n",
    "    # Classify as Genuine or Forged based on the threshold\n",
    "    if distance < threshold:\n",
    "        result= \"Genuine\"\n",
    "    else:\n",
    "        result= \"Forged\"\n",
    "    return result,distance\n",
    "        \n",
    "def preprocess_signature(signature):\n",
    "    try:\n",
    "        # Load the signature image using OpenCV\n",
    "        img = cv2.imread(signature, cv2.IMREAD_GRAYSCALE)\n",
    "\n",
    "        if img is None:\n",
    "            raise Exception(f\"Error reading image: {signature}\")\n",
    "\n",
    "        # Resize the image to match the input shape of the Siamese model\n",
    "        img = cv2.resize(img, (image_size, image_size))\n",
    "\n",
    "        # Normalize the pixel values to the range [0, 1]\n",
    "        img = img / 255.0\n",
    "\n",
    "        return img\n",
    "    except Exception as e:\n",
    "        print(f\"Error preprocessing signature: {e}\")\n",
    "        return None\n",
    "    \n",
    "\n",
    "\n",
    "# Example usage for classification\n",
    "img_path1 = r\"D:\\major\\Signature-Forgery-Detection-main\\Signature-Forgery-Detection-main\\Image\\real\\11_1.jpg\"\n",
    "img_path2 = r\"D:\\major\\Signature-Forgery-Detection-main\\Signature-Forgery-Detection-main\\Image\\forged\\011_5.jpg\"\n",
    "result, distance = classify_signature_pair(siamese_model, img_path1, img_path2)\n",
    "if result is not None:\n",
    "    print(f\"The signatures are classified as: {result}\")\n",
    "   \n",
    "else:\n",
    "    print(\"Error in preprocessing signatures.\")\n",
    "\n",
    "\n",
    "\n",
    "\n",
    "# Function to display an image\n",
    "def display_image(image, title):\n",
    "    plt.imshow(image, cmap='gray')\n",
    "    plt.title(title)\n",
    "    plt.axis('off')\n",
    "    plt.show()\n",
    "\n",
    "# Display genuine and forged images along with their classification results\n",
    "display_image(cv2.imread(img_path1, cv2.IMREAD_GRAYSCALE), \"Genuine Signature\")\n",
    "display_image(cv2.imread(img_path2, cv2.IMREAD_GRAYSCALE), \"Forged Signature\")\n",
    "print(f\"The signatures are classified as: {result}\")\n",
    "print(f\"The Euclidean distance between the signatures is: {distance}\")\n"
   ]
  },
  {
   "cell_type": "code",
   "execution_count": null,
   "id": "372c8cc6-335c-4680-a9f9-7d8fea004e7b",
   "metadata": {},
   "outputs": [],
   "source": []
  },
  {
   "cell_type": "code",
   "execution_count": null,
   "id": "ed6508d1-4f28-412a-93fa-895d8cf79977",
   "metadata": {},
   "outputs": [],
   "source": []
  },
  {
   "cell_type": "code",
   "execution_count": null,
   "id": "c3dc1108-dad4-4401-b357-ba93bcddf2a3",
   "metadata": {},
   "outputs": [],
   "source": []
  }
 ],
 "metadata": {
  "kernelspec": {
   "display_name": "Python 3 (ipykernel)",
   "language": "python",
   "name": "python3"
  },
  "language_info": {
   "codemirror_mode": {
    "name": "ipython",
    "version": 3
   },
   "file_extension": ".py",
   "mimetype": "text/x-python",
   "name": "python",
   "nbconvert_exporter": "python",
   "pygments_lexer": "ipython3",
   "version": "3.10.6"
  }
 },
 "nbformat": 4,
 "nbformat_minor": 5
}
